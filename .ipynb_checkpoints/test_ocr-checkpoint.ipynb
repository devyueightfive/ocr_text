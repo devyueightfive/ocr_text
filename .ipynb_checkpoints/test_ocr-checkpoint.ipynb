{
 "cells": [
  {
   "cell_type": "code",
   "execution_count": 1,
   "metadata": {
    "ExecuteTime": {
     "end_time": "2020-07-29T11:40:06.231991Z",
     "start_time": "2020-07-29T11:40:05.737388Z"
    }
   },
   "outputs": [],
   "source": [
    "try:\n",
    "    from PIL import Image\n",
    "except ImportError:\n",
    "    import Image\n",
    "import pytesseract"
   ]
  },
  {
   "cell_type": "code",
   "execution_count": 18,
   "metadata": {
    "ExecuteTime": {
     "end_time": "2020-07-29T11:48:52.322307Z",
     "start_time": "2020-07-29T11:48:52.318760Z"
    }
   },
   "outputs": [],
   "source": [
    "import cv2\n",
    "import os"
   ]
  },
  {
   "cell_type": "code",
   "execution_count": 2,
   "metadata": {
    "ExecuteTime": {
     "end_time": "2020-07-29T11:40:07.532777Z",
     "start_time": "2020-07-29T11:40:07.412362Z"
    }
   },
   "outputs": [
    {
     "name": "stdout",
     "output_type": "stream",
     "text": [
      "1.jpg  2.jpg  Untitled.ipynb\r\n"
     ]
    }
   ],
   "source": [
    "!ls"
   ]
  },
  {
   "cell_type": "code",
   "execution_count": 16,
   "metadata": {
    "ExecuteTime": {
     "end_time": "2020-07-29T11:48:37.104754Z",
     "start_time": "2020-07-29T11:48:37.099971Z"
    }
   },
   "outputs": [],
   "source": [
    "image_file = \"2.jpg\""
   ]
  },
  {
   "cell_type": "code",
   "execution_count": 24,
   "metadata": {
    "ExecuteTime": {
     "end_time": "2020-07-29T11:59:24.813106Z",
     "start_time": "2020-07-29T11:59:24.587823Z"
    }
   },
   "outputs": [
    {
     "data": {
      "text/plain": [
       "True"
      ]
     },
     "execution_count": 24,
     "metadata": {},
     "output_type": "execute_result"
    }
   ],
   "source": [
    "preprocess = \"thresh\"\n",
    "\n",
    "# загрузить образ и преобразовать его в оттенки серого\n",
    "image = cv2.imread(image_file)\n",
    "gray = cv2.cvtColor(image, cv2.COLOR_BGR2GRAY)\n",
    "\n",
    "# проверьте, следует ли применять пороговое значение для предварительной обработки изображения\n",
    "\n",
    "if preprocess == \"thresh\":\n",
    "    gray = cv2.threshold(gray, 0, 255,\n",
    "        cv2.THRESH_BINARY | cv2.THRESH_OTSU)[1]\n",
    "\n",
    "# если нужно медианное размытие, чтобы удалить шум\n",
    "elif preprocess == \"blur\":\n",
    "    gray = cv2.medianBlur(gray, 3)\n",
    "\n",
    "# сохраним временную картинку в оттенках серого, чтобы можно было применить к ней OCR\n",
    "\n",
    "filename = \"{}.png\".format(os.getpid())\n",
    "cv2.imwrite(filename, gray)"
   ]
  },
  {
   "cell_type": "code",
   "execution_count": 27,
   "metadata": {
    "ExecuteTime": {
     "end_time": "2020-07-29T12:05:32.161260Z",
     "start_time": "2020-07-29T12:05:26.313528Z"
    }
   },
   "outputs": [
    {
     "name": "stdout",
     "output_type": "stream",
     "text": [
      "B cootsercrsuu co cr. 304 TK P® co6crseHHHK MoxeT TpeGoBaTb ycTpaHeHHA BCAKKX\n",
      "HapyleHHii ero mpapa, XOTs ObI STH HapyleHHa MH He OBI COeAHHEHEI C IHMIeHHeM BIaeHHa.\n",
      "\n",
      "B coorserctsuu c 4.4 ct. 69 KK P® ecnu rpaxnaHHH nepectan ObITh 4YeHOM CeMbH\n",
      "H@HHMaTeA OKHIOrO MOMeMeHHA 0 OroBOpy COlHanibHoro HaliMa, HO MpoomKaer\n",
      "TIPOXKMBaTb B 3€HHM@CMOM KHJIOM IIOMEINCHHH, 3a HMM COXpaHAIOTCA TakKHe 2Ke lIpaBa, KakHe\n",
      "HMCIOT HaHHMAaTeJIb H WICHbI FO CEMBH. Yka3aHHbiit TpaxkaHHH CAMOCTOATEIBHO OTBeYaeT 0\n",
      "CBOUM OO6s3aTeIbCTBaM, BEITEKAIONIHM H3 COOTBETCTBYIOM[ErO NOFOBopa COLMaIbHOFO Haima.\n",
      "\n",
      "Kak cnefyeT 43 MaTepHayioB ela uv ycTaHOBNeHoO B CyqeOHOM 3aceqaHHM, >%xHIOe\n",
      "NOMelNeHHe To ampecy: r. Mocxsa, yn. Tenepana Inaronespa, 4.19, xp. 332 HaxoguTca B\n",
      "COOCTBEHHOCTH ACTA | Ha OCHOBaHHA AoroBopa Aapenus oT 19.07.2013 rona\n",
      "(1.0.8,11-12 toma 2). PaHee qaHHoe xumoe NoMeleHHe MpHHamiexano Ha\n",
      "OCHOBaHHH JOTOBOpa MECHBI, 3aKOYCHHOTO MexKAy HAM H JDKTI u 2K® r. Mocxssr nw 6pN0\n",
      "MpeHOcTaBeHo eMy B NOpAAKe KOMMeHCAaLIHH B CBA3H CO CHOCOM J{oMa Mo aypecy: r. Mocxsa,\n",
      "yn. Hopoutykunckaa, 4.8 Ha OCHOBaHHH pacropsKeHHA DKIT w 2K® r. Mocxspr ot\n",
      "11.05.2012r.. 3 1.3 naHHoro pacnopsxkKeHHA cyeqyeT, 4TO 2%KMNOe MOMeLeHHe 0 aypecy:\n",
      "TeHepasa Pnaranesa, 19-332 mpemoctaBiaeTca MpH ycnoBHN BCeneHuA u peructpauHH no\n",
      "MECTY 2KHTEJIBCTBa MONb30BaTeTeH 4H (1.4.13-14 toma 1). H3\n",
      "TIipeACTaBJICHHBIX JOKYM€HTOB HO MIpHBaTH3alHH KBapTHpbI MoO agpecy: r. Mocxsa, yu.\n",
      "Hosourykunckas,y.8 ciekyet, YTO Ha MOMeHT ee NpPHBAaTH3alHH B Heit 6b TIponHcaH ODMH\n",
      "\n",
      "(1.0.34-36 ‘Toma 1). | . OBLI MporHcaH mo agpecy: r. Mocxsa, yn.\n",
      "\n",
      "Hosomykuuckas, 1.8 26.12.1997 roa (1.0.16 Toma 1), a mo ampecy: r. Mocksa, yn. Denepana\n",
      "Pnaronesa, 4.19 12.11.2013roya (1.0.6 Toma 2).\n",
      "\n",
      "U3 o6bacnenuit npencraputena uctya crelyeT, YTO HCTell\n",
      "B CIOpHOe %KHJIO€ MOMeIICHHe He BCEelIAICA, Obl 3aperucTpHpoBaH JIMIb Ha OCHOBaHHH\n",
      "pacnopmKenua JDKIT uw K® r. Mockssi 6e3 cormacusa co6OcTBeHHHKA.\n",
      "\n",
      "OueHHBas BbIMeH3IOKeEHHOe H MpeACTAaBNICHHEIe B CYA MOKa3aTeNBCTBa, CY MpHXONUT\n",
      "K BbIBOJY, YTO HCKOBbIe TpeOoBaHHa MlOWIeKAT YNOBMETBOPeHHIO, MOCKOJbKy\n",
      "Konocos A.E. He aBideTCH WIeHOM CeMbH HCTHa, Ha CIOpHO oKHNOM MIOWANH He NpoxuBae;r,\n",
      "I. He HECET pacXOJOB NO ONNATe *KHIMU[HO-KOMMYH@JIbHBIX MaTexei, a TpeSopanua Konocosa\n",
      "A.E. He TodlexkallluMH yOBIeTBOpeHHIO, Kak He Halle MWe NOATBEpKACHHA.\n",
      "\n",
      "Pykopogctsyscp ct. ct. 194- 199 PNK P® cyz,\n",
      "\n",
      " \n",
      "\n",
      ".\n",
      "\n",
      "PEILUMII:\n",
      "\n",
      "IIpexpatHTb mpaso NOJIb30BaHHA = KHJIbIM\n",
      "NOMewleHHem To ampecy: r. Mocxkspa, yn. renepana Inaronesa 4. 19 xp. 332 uw CHAT ero c\n",
      "peructTpallMonyoro yyeTa No aHHOMy aypecy.\n",
      "\n",
      "B ucke K B\n",
      "MWe 3aKOHHOTO IpeacTaBuTena O BCeJIeHHH\n",
      "He4HHEHHN MpenaATCTBHH B MOb30BaHHA OKWJIbIM IOMELNCHHEM OTKa3aTb.\n",
      "\n",
      "PeweHve MoxeT ObITh OOxKaTOBaHO B MockoscKHi roponcKoit cy B TeyeHHe ofHOFO\n",
      "Mecalla CO JHA MPHHATHA peleHHA cya B OKOHYATeIbHOH copmMe fyTem nogauu\n",
      "anlesWIAWHOHHOM %KanoObr Yepe3 Xopowescknh paionnpm cya r. Mockssi.\n",
      "\n",
      "ON A TRE EY\n",
      "\n",
      "Cynba [LC lldi’d, WH. Kenauescxas\n"
     ]
    }
   ],
   "source": [
    "# загрузка изображения в виде объекта image Pillow, применение OCR, а затем удаление временного файла\n",
    "text = pytesseract.image_to_string(Image.open(filename), lang=\"rus+eng\")\n",
    "print(text)"
   ]
  },
  {
   "cell_type": "code",
   "execution_count": 30,
   "metadata": {
    "ExecuteTime": {
     "end_time": "2020-07-29T12:13:55.652643Z",
     "start_time": "2020-07-29T12:13:55.627348Z"
    }
   },
   "outputs": [
    {
     "data": {
      "text/plain": [
       "LooseVersion ('4.1.1')"
      ]
     },
     "execution_count": 30,
     "metadata": {},
     "output_type": "execute_result"
    }
   ],
   "source": [
    "pytesseract.get_tesseract_version()"
   ]
  },
  {
   "cell_type": "markdown",
   "metadata": {
    "ExecuteTime": {
     "end_time": "2020-07-29T12:17:52.354635Z",
     "start_time": "2020-07-29T12:17:52.348199Z"
    }
   },
   "source": [
    "https://habr.com/ru/post/466565/"
   ]
  },
  {
   "cell_type": "markdown",
   "metadata": {},
   "source": [
    "https://stackoverflow.com/questions/21885050/abbyy-finereader-command-line-usage-python-usage"
   ]
  }
 ],
 "metadata": {
  "kernelspec": {
   "display_name": "Python 3",
   "language": "python",
   "name": "python3"
  },
  "language_info": {
   "codemirror_mode": {
    "name": "ipython",
    "version": 3
   },
   "file_extension": ".py",
   "mimetype": "text/x-python",
   "name": "python",
   "nbconvert_exporter": "python",
   "pygments_lexer": "ipython3",
   "version": "3.7.7"
  },
  "toc": {
   "base_numbering": 1,
   "nav_menu": {},
   "number_sections": true,
   "sideBar": true,
   "skip_h1_title": false,
   "title_cell": "Table of Contents",
   "title_sidebar": "Contents",
   "toc_cell": false,
   "toc_position": {},
   "toc_section_display": true,
   "toc_window_display": false
  }
 },
 "nbformat": 4,
 "nbformat_minor": 4
}
